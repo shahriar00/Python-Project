{
  "nbformat": 4,
  "nbformat_minor": 0,
  "metadata": {
    "colab": {
      "provenance": [],
      "authorship_tag": "ABX9TyOVdgvQwNDulNUdLBpDMA3h"
    },
    "kernelspec": {
      "name": "python3",
      "display_name": "Python 3"
    },
    "language_info": {
      "name": "python"
    }
  },
  "cells": [
    {
      "cell_type": "code",
      "execution_count": null,
      "metadata": {
        "id": "cfTd2If_D3F4"
      },
      "outputs": [],
      "source": [
        "!pip install pywhatkit"
      ]
    },
    {
      "cell_type": "code",
      "source": [
        "!sudo apt-get install xvfb\n"
      ],
      "metadata": {
        "id": "Nx_9yzsBEGmY"
      },
      "execution_count": null,
      "outputs": []
    },
    {
      "cell_type": "code",
      "source": [
        "import os\n",
        "\n",
        "# Set the DISPLAY variable to use a virtual display\n",
        "os.environ['DISPLAY'] = ':0'\n",
        "\n",
        "# Now you can import pywhatkit and run your code\n",
        "!xvfb-run -a -n 1 python your_script.py\n",
        "import pywhatkit as pw\n",
        "txt = \"Python is a high-level, general-purpose programming language. Its design philosophy emphasizes code readability with the use of significant indentation. Python is dynamically typed and garbage-collected.\"\n",
        "pw.text_to_handwritting(txt,\"demo.png\",[0,0,138])\n",
        "print(\"Generated\")"
      ],
      "metadata": {
        "id": "6raSRlR9EWTH"
      },
      "execution_count": null,
      "outputs": []
    }
  ]
}