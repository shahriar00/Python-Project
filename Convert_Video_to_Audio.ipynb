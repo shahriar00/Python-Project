{
  "nbformat": 4,
  "nbformat_minor": 0,
  "metadata": {
    "colab": {
      "provenance": [],
      "authorship_tag": "ABX9TyPFyw4NWzWfU39EWb03wstK"
    },
    "kernelspec": {
      "name": "python3",
      "display_name": "Python 3"
    },
    "language_info": {
      "name": "python"
    }
  },
  "cells": [
    {
      "cell_type": "code",
      "execution_count": null,
      "metadata": {
        "id": "Q8CVcBbyWlyI"
      },
      "outputs": [],
      "source": [
        "!pip install moviepy"
      ]
    },
    {
      "cell_type": "code",
      "source": [
        "import moviepy.editor\n",
        "from tkinter.filedialog import *\n",
        "\n",
        "vid = askopenfilename()\n",
        "video = moviepy.editor.VideoFileClip(vid)\n",
        "\n",
        "aud = video.audio\n",
        "aud.write_audiofile('demo.mp3')\n",
        "\n",
        "print(\"Convert Done!!\")"
      ],
      "metadata": {
        "id": "p00-9af4W1Bp"
      },
      "execution_count": null,
      "outputs": []
    }
  ]
}