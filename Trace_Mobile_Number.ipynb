{
  "nbformat": 4,
  "nbformat_minor": 0,
  "metadata": {
    "colab": {
      "provenance": [],
      "authorship_tag": "ABX9TyPfMMdaAqlBBIqGeCyyBLQW"
    },
    "kernelspec": {
      "name": "python3",
      "display_name": "Python 3"
    },
    "language_info": {
      "name": "python"
    }
  },
  "cells": [
    {
      "cell_type": "code",
      "execution_count": null,
      "metadata": {
        "id": "obvPBxZNgHZi"
      },
      "outputs": [],
      "source": [
        "!pip install phonenumbers"
      ]
    },
    {
      "cell_type": "code",
      "source": [
        "from phonenumbers import timezone,geocoder,carrier"
      ],
      "metadata": {
        "id": "5GK_sU8Y-SgT"
      },
      "execution_count": 4,
      "outputs": []
    },
    {
      "cell_type": "code",
      "source": [
        "import phonenumbers\n",
        "\n",
        "\n",
        "phone_number_str = input(\"Enter your phone number (including country code): \")\n",
        "\n",
        "\n",
        "\n",
        "phone_number = phonenumbers.parse(phone_number_str)\n",
        "\n",
        "\n",
        "if phonenumbers.is_valid_number(phone_number):\n",
        "\n",
        "     time_zones = phonenumbers.time_zones_for_number(phone_number)\n",
        "\n",
        "\n",
        "     carrier_name = phonenumbers.carrier.name_for_number(phone_number, \"en\")\n",
        "\n",
        "\n",
        "     geo_description = phonenumbers.geocoder.description_for_number(phone_number, \"en\")\n",
        "\n",
        "     print(\"Time Zones:\", list(time_zones))\n",
        "     print(\"Carrier Name:\", carrier_name)\n",
        "     print(\"Geographical Description:\", geo_description)\n",
        "\n",
        "else:\n",
        "   print(\"Invalid phone number.\")\n",
        "\n",
        "\n",
        "\n",
        "\n"
      ],
      "metadata": {
        "id": "sbzsZxZu-eCj"
      },
      "execution_count": null,
      "outputs": []
    }
  ]
}