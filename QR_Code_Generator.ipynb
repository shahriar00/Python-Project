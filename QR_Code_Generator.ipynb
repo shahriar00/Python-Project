{
  "nbformat": 4,
  "nbformat_minor": 0,
  "metadata": {
    "colab": {
      "provenance": [],
      "authorship_tag": "ABX9TyPAMI2A1kxn+W0fWuvIugNR"
    },
    "kernelspec": {
      "name": "python3",
      "display_name": "Python 3"
    },
    "language_info": {
      "name": "python"
    }
  },
  "cells": [
    {
      "cell_type": "code",
      "execution_count": null,
      "metadata": {
        "id": "IUu-VOFRYIHI"
      },
      "outputs": [],
      "source": [
        "!pip install qrcode[pil]"
      ]
    },
    {
      "cell_type": "code",
      "source": [
        "import qrcode\n",
        "\n",
        "# Create a QR code instance\n",
        "qr = qrcode.QRCode(\n",
        "    version=1,\n",
        "    error_correction=qrcode.constants.ERROR_CORRECT_L,\n",
        "    box_size=10,\n",
        "    border=4,\n",
        ")\n",
        "\n",
        "# Add data to the QR code\n",
        "data = \"https://www.youtube.com/watch?v=CaqJ65CIoMw\"\n",
        "qr.add_data(data)\n",
        "qr.make(fit=True)\n",
        "\n",
        "# Create an image from the QR code\n",
        "img = qr.make_image(fill_color=\"black\", back_color=\"white\")\n",
        "\n",
        "# Save or display the QR code image\n",
        "img.save(\"youtube_qr.png\")\n",
        "img.show()\n"
      ],
      "metadata": {
        "id": "oUMiBuYdbkBK"
      },
      "execution_count": 2,
      "outputs": []
    }
  ]
}